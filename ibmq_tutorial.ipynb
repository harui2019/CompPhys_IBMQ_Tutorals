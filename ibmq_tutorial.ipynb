{
 "cells": [
  {
   "attachments": {},
   "cell_type": "markdown",
   "metadata": {},
   "source": [
    "# IBMQ Usage Tutorial\n",
    "\n",
    "A course material for **計算物理導論 Introduction to Computational Physics**\n",
    "Course No.782025001\n",
    "\n",
    "**This course material was made in 2023/04 for Qiskit Version < 1.0. There are some features has been deprecated.**\n"
   ]
  },
  {
   "attachments": {},
   "cell_type": "markdown",
   "metadata": {},
   "source": [
    "## Environment Setup"
   ]
  },
  {
   "attachments": {},
   "cell_type": "markdown",
   "metadata": {},
   "source": [
    "### For google colab setup\n",
    "\n",
    "If you are using google colab, you will need to run the following part to setup enviroment."
   ]
  },
  {
   "cell_type": "code",
   "execution_count": 1,
   "metadata": {},
   "outputs": [],
   "source": [
    "# !pip install qiskit qiskit_aer qiskit_ibm_provider"
   ]
  },
  {
   "attachments": {},
   "cell_type": "markdown",
   "metadata": {},
   "source": [
    "## How to create a quantum circuit\n",
    "\n",
    "### 1. Importing the necessary packages"
   ]
  },
  {
   "cell_type": "code",
   "execution_count": 2,
   "metadata": {},
   "outputs": [],
   "source": [
    "## Importing the necessary packages\n",
    "from qiskit import QuantumRegister, ClassicalRegister, QuantumCircuit\n",
    "from numpy import pi\n"
   ]
  },
  {
   "attachments": {},
   "cell_type": "markdown",
   "metadata": {},
   "source": [
    "### 2. Create a quantum circuit like this:\n",
    "```txt\n",
    "     ┌───┐┌───┐        ┌─┐\n",
    "q_0: ┤ X ├┤ H ├──■─────┤M├\n",
    "     ├───┤└───┘┌─┴─┐┌─┐└╥┘\n",
    "q_1: ┤ X ├─────┤ X ├┤M├─╫─\n",
    "     └───┘     └───┘└╥┘ ║ \n",
    "c: 2/════════════════╩══╩═\n",
    "                     1  0 \n",
    "```\n"
   ]
  },
  {
   "cell_type": "code",
   "execution_count": 3,
   "metadata": {},
   "outputs": [
    {
     "name": "stdout",
     "output_type": "stream",
     "text": [
      "     ┌───┐┌───┐        ┌─┐\n",
      "q_0: ┤ X ├┤ H ├──■─────┤M├\n",
      "     ├───┤└───┘┌─┴─┐┌─┐└╥┘\n",
      "q_1: ┤ X ├─────┤ X ├┤M├─╫─\n",
      "     └───┘     └───┘└╥┘ ║ \n",
      "c: 2/════════════════╩══╩═\n",
      "                     1  0 \n"
     ]
    }
   ],
   "source": [
    "qreg_q = QuantumRegister(2, 'q')\n",
    "creg_c = ClassicalRegister(2, 'c')\n",
    "circuit = QuantumCircuit(qreg_q, creg_c)\n",
    "\n",
    "circuit.name = \"Intracell State\"\n",
    "# you can name the circuit by this.\n",
    "\n",
    "circuit.x(qreg_q[0])\n",
    "circuit.x(qreg_q[1])\n",
    "circuit.h(qreg_q[0])\n",
    "circuit.cx(qreg_q[0], qreg_q[1])\n",
    "circuit.measure(qreg_q[1], creg_c[1])\n",
    "circuit.measure(qreg_q[0], creg_c[0])\n",
    "\n",
    "print(circuit)"
   ]
  },
  {
   "attachments": {},
   "cell_type": "markdown",
   "metadata": {},
   "source": [
    "## Running the quantum circuit on a simulator\n",
    "\n",
    "### 1. Prepare the backend\n",
    "\n",
    "At first we need to import the backend simulator."
   ]
  },
  {
   "cell_type": "code",
   "execution_count": 4,
   "metadata": {
    "tags": []
   },
   "outputs": [],
   "source": [
    "from qiskit_aer import AerSimulator, AerProvider"
   ]
  },
  {
   "attachments": {},
   "cell_type": "markdown",
   "metadata": {},
   "source": [
    "A basic backend can be created with the following command"
   ]
  },
  {
   "cell_type": "code",
   "execution_count": 5,
   "metadata": {
    "tags": []
   },
   "outputs": [],
   "source": [
    "basicBackend = AerSimulator()"
   ]
  },
  {
   "attachments": {},
   "cell_type": "markdown",
   "metadata": {},
   "source": [
    "Also, there is more in `AerProvider` can be accessed, but we won't use them for this basic tutorial.\n"
   ]
  },
  {
   "cell_type": "code",
   "execution_count": 6,
   "metadata": {},
   "outputs": [
    {
     "data": {
      "text/plain": [
       "[AerSimulator('aer_simulator'),\n",
       " AerSimulator('aer_simulator_statevector'),\n",
       " AerSimulator('aer_simulator_statevector_gpu'),\n",
       " AerSimulator('aer_simulator_density_matrix'),\n",
       " AerSimulator('aer_simulator_density_matrix_gpu'),\n",
       " AerSimulator('aer_simulator_stabilizer'),\n",
       " AerSimulator('aer_simulator_matrix_product_state'),\n",
       " AerSimulator('aer_simulator_extended_stabilizer'),\n",
       " AerSimulator('aer_simulator_unitary'),\n",
       " AerSimulator('aer_simulator_unitary_gpu'),\n",
       " AerSimulator('aer_simulator_superop'),\n",
       " QasmSimulator('qasm_simulator'),\n",
       " StatevectorSimulator('statevector_simulator'),\n",
       " UnitarySimulator('unitary_simulator'),\n",
       " PulseSimulator('pulse_simulator')]"
      ]
     },
     "execution_count": 6,
     "metadata": {},
     "output_type": "execute_result"
    }
   ],
   "source": [
    "AerProvider().backends()"
   ]
  },
  {
   "attachments": {},
   "cell_type": "markdown",
   "metadata": {},
   "source": [
    "### 2. Make a job\n",
    "\n",
    "And then we can make a job with the circuit we created before."
   ]
  },
  {
   "cell_type": "code",
   "execution_count": 7,
   "metadata": {
    "tags": []
   },
   "outputs": [
    {
     "data": {
      "text/plain": [
       "<qiskit_aer.jobs.aerjob.AerJob at 0x7f6f4fb45940>"
      ]
     },
     "execution_count": 7,
     "metadata": {},
     "output_type": "execute_result"
    }
   ],
   "source": [
    "job01 = basicBackend.run(circuit)\n",
    "job01"
   ]
  },
  {
   "attachments": {},
   "cell_type": "markdown",
   "metadata": {},
   "source": [
    "After running the job, we can get the result by using `result.get_counts()`."
   ]
  },
  {
   "cell_type": "code",
   "execution_count": 8,
   "metadata": {
    "tags": []
   },
   "outputs": [
    {
     "name": "stdout",
     "output_type": "stream",
     "text": [
      "Result(backend_name='aer_simulator', backend_version='0.11.2', qobj_id='0c896ab7-3f64-4256-8a87-8059c9a67729', job_id='7b2effc5-ccf4-4a78-b7e2-f0aa22c9326a', success=True, results=[ExperimentResult(shots=1024, success=True, meas_level=2, data=ExperimentResultData(counts={'0x2': 500, '0x1': 524}), header=QobjExperimentHeader(clbit_labels=[['c', 0], ['c', 1]], creg_sizes=[['c', 2]], global_phase=0.0, memory_slots=2, metadata={}, n_qubits=2, name='Intracell State', qreg_sizes=[['q', 2]], qubit_labels=[['q', 0], ['q', 1]]), status=DONE, seed_simulator=3396607744, metadata={'parallel_state_update': 16, 'sample_measure_time': 0.000238847, 'noise': 'ideal', 'batched_shots_optimization': False, 'measure_sampling': True, 'device': 'CPU', 'num_qubits': 2, 'parallel_shots': 1, 'remapped_qubits': False, 'method': 'stabilizer', 'active_input_qubits': [0, 1], 'num_clbits': 2, 'input_qubit_map': [[1, 1], [0, 0]], 'fusion': {'enabled': False}}, time_taken=0.001358976)], date=2023-04-26T04:18:54.786023, status=COMPLETED, header=QobjHeader(backend_name='aer_simulator', backend_version='0.11.2'), metadata={'time_taken': 0.001498151, 'time_taken_execute': 0.00137838, 'mpi_rank': 0, 'parallel_experiments': 1, 'omp_enabled': True, 'max_gpu_memory_mb': 10001, 'num_processes_per_experiments': 1, 'num_mpi_processes': 1, 'time_taken_load_qobj': 8.0343e-05, 'max_memory_mb': 128555}, time_taken=0.0016393661499023438)\n"
     ]
    }
   ],
   "source": [
    "result01 = job01.result()\n",
    "print(result01)"
   ]
  },
  {
   "cell_type": "code",
   "execution_count": 9,
   "metadata": {
    "tags": []
   },
   "outputs": [
    {
     "data": {
      "text/plain": [
       "{'10': 500, '01': 524}"
      ]
     },
     "execution_count": 9,
     "metadata": {},
     "output_type": "execute_result"
    }
   ],
   "source": [
    "result01.get_counts()"
   ]
  },
  {
   "attachments": {},
   "cell_type": "markdown",
   "metadata": {},
   "source": [
    "And this will return a dictionary with the result of the measurement.\n",
    "\n",
    "The result show that the measurement of our bits are `10` and `01`.\n",
    "\n",
    "The probability of getting `10` is $\\sim 0.5$ and `01` is $\\sim 0.5$.\n",
    "\n",
    "It can be calculated by dividing the number of getting `10` or `01` by the total number of shots, \n",
    "\n",
    "for the default number in local simulator is $1024$."
   ]
  },
  {
   "attachments": {},
   "cell_type": "markdown",
   "metadata": {},
   "source": [
    "### 3. Futher usage"
   ]
  },
  {
   "attachments": {},
   "cell_type": "markdown",
   "metadata": {},
   "source": [
    "#### a. We can also use `plot_histogram` to plot the result."
   ]
  },
  {
   "cell_type": "code",
   "execution_count": 10,
   "metadata": {},
   "outputs": [],
   "source": [
    "from qiskit.visualization import plot_histogram"
   ]
  },
  {
   "cell_type": "code",
   "execution_count": 11,
   "metadata": {},
   "outputs": [
    {
     "data": {
      "image/png": "[encoded data removed]",
      "text/plain": [
       "<Figure size 504x360 with 1 Axes>"
      ]
     },
     "execution_count": 11,
     "metadata": {},
     "output_type": "execute_result"
    }
   ],
   "source": [
    "plot_histogram(result01.get_counts())"
   ]
  },
  {
   "attachments": {},
   "cell_type": "markdown",
   "metadata": {},
   "source": [
    "#### b. Or change the number of shots by using `job backend.run(circuit, shots=4096)`."
   ]
  },
  {
   "cell_type": "code",
   "execution_count": 12,
   "metadata": {},
   "outputs": [
    {
     "name": "stdout",
     "output_type": "stream",
     "text": [
      "| The counts are:  {'10': 2036, '01': 2060}\n"
     ]
    },
    {
     "data": {
      "image/png": "[encoded data removed]",
      "text/plain": [
       "<Figure size 504x360 with 1 Axes>"
      ]
     },
     "execution_count": 12,
     "metadata": {},
     "output_type": "execute_result"
    }
   ],
   "source": [
    "job02 = basicBackend.run(circuit, shots=4096)\n",
    "result02 = job02.result()\n",
    "# print(result01)\n",
    "print(\"| The counts are: \", result02.get_counts())\n",
    "plot_histogram(result02.get_counts())"
   ]
  },
  {
   "attachments": {},
   "cell_type": "markdown",
   "metadata": {},
   "source": [
    "#### c. Run multiple circuits at once\n",
    "\n",
    "You can run multiple circuits at once by passing a list of circuits to `backend.run()`.\n",
    "And you can put different circuits in the list.\n",
    "\n",
    "We introduce some new circuit here for example."
   ]
  },
  {
   "cell_type": "code",
   "execution_count": 13,
   "metadata": {},
   "outputs": [
    {
     "name": "stdout",
     "output_type": "stream",
     "text": [
      "        ┌───┐                ░ ┌─┐         \n",
      "   q_0: ┤ H ├──■─────────────░─┤M├─────────\n",
      "        └───┘┌─┴─┐           ░ └╥┘┌─┐      \n",
      "   q_1: ─────┤ X ├──■────────░──╫─┤M├──────\n",
      "             └───┘┌─┴─┐      ░  ║ └╥┘┌─┐   \n",
      "   q_2: ──────────┤ X ├──■───░──╫──╫─┤M├───\n",
      "                  └───┘┌─┴─┐ ░  ║  ║ └╥┘┌─┐\n",
      "   q_3: ───────────────┤ X ├─░──╫──╫──╫─┤M├\n",
      "                       └───┘ ░  ║  ║  ║ └╥┘\n",
      "meas: 4/════════════════════════╩══╩══╩══╩═\n",
      "                                0  1  2  3 \n"
     ]
    }
   ],
   "source": [
    "qreg_q_cat = QuantumRegister(4, 'q')\n",
    "circuit_cat = QuantumCircuit(qreg_q_cat)\n",
    "\n",
    "circuit_cat.name = \"GHZ State\"\n",
    "\n",
    "circuit_cat.h(qreg_q_cat[0])\n",
    "circuit_cat.cx(qreg_q_cat[0], qreg_q_cat[1])\n",
    "circuit_cat.cx(qreg_q_cat[1], qreg_q_cat[2])\n",
    "circuit_cat.cx(qreg_q_cat[2], qreg_q_cat[3])\n",
    "\n",
    "circuit_cat.measure_all()\n",
    "# using the measure_all() method to measure all the qubits\n",
    "# and it will add classical registers automatically,\n",
    "# so you don't need to add classical registers manually.'\n",
    "\n",
    "print(circuit_cat)"
   ]
  },
  {
   "attachments": {},
   "cell_type": "markdown",
   "metadata": {},
   "source": [
    "Make a circuit list"
   ]
  },
  {
   "cell_type": "code",
   "execution_count": 14,
   "metadata": {},
   "outputs": [
    {
     "name": "stdout",
     "output_type": "stream",
     "text": [
      "['Intracell State', 'GHZ State', 'GHZ State', 'GHZ State', 'Intracell State']\n"
     ]
    }
   ],
   "source": [
    "multiple_circs = [\n",
    "    circuit, circuit_cat, circuit_cat, circuit_cat, circuit\n",
    "]\n",
    "print([qc.name for qc in multiple_circs])"
   ]
  },
  {
   "attachments": {},
   "cell_type": "markdown",
   "metadata": {},
   "source": [
    "Then run it"
   ]
  },
  {
   "cell_type": "code",
   "execution_count": 15,
   "metadata": {},
   "outputs": [
    {
     "name": "stdout",
     "output_type": "stream",
     "text": [
      "| The counts are: \n"
     ]
    },
    {
     "data": {
      "text/plain": [
       "[{'10': 1996, '01': 2100},\n",
       " {'1111': 2070, '0000': 2026},\n",
       " {'0000': 2041, '1111': 2055},\n",
       " {'0000': 2018, '1111': 2078},\n",
       " {'01': 2063, '10': 2033}]"
      ]
     },
     "execution_count": 15,
     "metadata": {},
     "output_type": "execute_result"
    }
   ],
   "source": [
    "job03 = basicBackend.run(multiple_circs, shots=4096)\n",
    "result03 = job03.result()\n",
    "# print(result01)\n",
    "print(\"| The counts are: \")\n",
    "result03.get_counts()"
   ]
  },
  {
   "attachments": {},
   "cell_type": "markdown",
   "metadata": {},
   "source": [
    "## Rnning the quantum circuit on IBMQ and a real quantum computer\n",
    "\n",
    "At first we need to have an account of [IBM Quantum](https://quantum-computing.ibm.com/).\n",
    "\n",
    "When you have an account of [IBM Quantum](https://quantum-computing.ibm.com/), you can get your API token in the [home page](https://quantum-computing.ibm.com/) after login.\n",
    "\n",
    "![home_page](./home_page.png)\n",
    "\n",
    "Copy the token and paste it on `IBMProvider.save_account`."
   ]
  },
  {
   "cell_type": "code",
   "execution_count": 16,
   "metadata": {},
   "outputs": [],
   "source": [
    "from qiskit_ibm_provider import IBMProvider"
   ]
  },
  {
   "cell_type": "code",
   "execution_count": 17,
   "metadata": {},
   "outputs": [],
   "source": [
    "# IBMProvider.save_account('API_TOKEN') # paste your API_TOKEN here"
   ]
  },
  {
   "attachments": {},
   "cell_type": "markdown",
   "metadata": {},
   "source": [
    "After that, you can access the backends on **IBM Quantum** to load your account.\n"
   ]
  },
  {
   "cell_type": "code",
   "execution_count": 18,
   "metadata": {},
   "outputs": [],
   "source": [
    "theIBMProvider = IBMProvider()"
   ]
  },
  {
   "attachments": {},
   "cell_type": "markdown",
   "metadata": {},
   "source": [
    "The followings are the backends on **IBM Quantum** you can access.\n",
    "It's including the simulator and the real quantum computer."
   ]
  },
  {
   "cell_type": "code",
   "execution_count": 19,
   "metadata": {
    "tags": []
   },
   "outputs": [
    {
     "data": {
      "text/plain": [
       "[<IBMBackend('simulator_extended_stabilizer')>,\n",
       " <IBMBackend('ibm_hanoi')>,\n",
       " <IBMBackend('ibmq_kolkata')>,\n",
       " <IBMBackend('ibm_cairo')>,\n",
       " <IBMBackend('ibm_washington')>,\n",
       " <IBMBackend('ibmq_guadalupe')>,\n",
       " <IBMBackend('simulator_stabilizer')>,\n",
       " <IBMBackend('ibm_lagos')>,\n",
       " <IBMBackend('ibmq_mumbai')>,\n",
       " <IBMBackend('ibm_auckland')>,\n",
       " <IBMBackend('ibm_perth')>,\n",
       " <IBMBackend('ibm_sherbrooke')>,\n",
       " <IBMBackend('ibmq_qasm_simulator')>,\n",
       " <IBMBackend('simulator_mps')>,\n",
       " <IBMBackend('simulator_statevector')>,\n",
       " <IBMBackend('ibmq_jakarta')>,\n",
       " <IBMBackend('ibm_geneva')>,\n",
       " <IBMBackend('ibmq_quito')>,\n",
       " <IBMBackend('ibm_nairobi')>,\n",
       " <IBMBackend('ibmq_lima')>,\n",
       " <IBMBackend('ibmq_belem')>,\n",
       " <IBMBackend('ibmq_manila')>,\n",
       " <IBMBackend('ibm_oslo')>]"
      ]
     },
     "execution_count": 19,
     "metadata": {},
     "output_type": "execute_result"
    }
   ],
   "source": [
    "theIBMProvider.backends()"
   ]
  },
  {
   "attachments": {},
   "cell_type": "markdown",
   "metadata": {},
   "source": [
    "With `simulator=False` we can show the of only real machine."
   ]
  },
  {
   "cell_type": "code",
   "execution_count": 20,
   "metadata": {},
   "outputs": [
    {
     "data": {
      "text/plain": [
       "[<IBMBackend('ibm_hanoi')>,\n",
       " <IBMBackend('ibmq_kolkata')>,\n",
       " <IBMBackend('ibm_cairo')>,\n",
       " <IBMBackend('ibm_washington')>,\n",
       " <IBMBackend('ibmq_guadalupe')>,\n",
       " <IBMBackend('ibm_lagos')>,\n",
       " <IBMBackend('ibmq_mumbai')>,\n",
       " <IBMBackend('ibm_auckland')>,\n",
       " <IBMBackend('ibm_perth')>,\n",
       " <IBMBackend('ibm_sherbrooke')>,\n",
       " <IBMBackend('ibmq_jakarta')>,\n",
       " <IBMBackend('ibm_geneva')>,\n",
       " <IBMBackend('ibmq_quito')>,\n",
       " <IBMBackend('ibm_nairobi')>,\n",
       " <IBMBackend('ibmq_lima')>,\n",
       " <IBMBackend('ibmq_belem')>,\n",
       " <IBMBackend('ibmq_manila')>,\n",
       " <IBMBackend('ibm_oslo')>]"
      ]
     },
     "execution_count": 20,
     "metadata": {},
     "output_type": "execute_result"
    }
   ],
   "source": [
    "theIBMProvider.backends(simulator=False)"
   ]
  },
  {
   "attachments": {},
   "cell_type": "markdown",
   "metadata": {},
   "source": [
    "### 2. Make a job on IBMQ\n",
    "\n",
    "Pick a backend and run the job.\n",
    "We use the circuit list we created before for example."
   ]
  },
  {
   "cell_type": "code",
   "execution_count": 21,
   "metadata": {
    "tags": []
   },
   "outputs": [
    {
     "data": {
      "text/plain": [
       "'ibmq_qasm_simulator'"
      ]
     },
     "execution_count": 21,
     "metadata": {},
     "output_type": "execute_result"
    }
   ],
   "source": [
    "ibmqQASM = theIBMProvider.get_backend('ibmq_qasm_simulator')\n",
    "ibmqQASM.name"
   ]
  },
  {
   "cell_type": "code",
   "execution_count": 22,
   "metadata": {},
   "outputs": [
    {
     "name": "stdout",
     "output_type": "stream",
     "text": [
      "| The counts are: \n"
     ]
    },
    {
     "data": {
      "text/plain": [
       "[{'10': 2013, '01': 2083},\n",
       " {'0000': 2021, '1111': 2075},\n",
       " {'1111': 2036, '0000': 2060},\n",
       " {'1111': 2026, '0000': 2070},\n",
       " {'10': 2050, '01': 2046}]"
      ]
     },
     "execution_count": 22,
     "metadata": {},
     "output_type": "execute_result"
    }
   ],
   "source": [
    "job11 = ibmqQASM.run(multiple_circs, shots=4096)\n",
    "result11 = job11.result()\n",
    "# print(result11)\n",
    "print(\"| The counts are: \")\n",
    "result11.get_counts()"
   ]
  },
  {
   "attachments": {},
   "cell_type": "markdown",
   "metadata": {},
   "source": [
    "### 3. Pending a job to real quantum computer\n",
    "1. We need to pick a quantum computer to run the job."
   ]
  },
  {
   "cell_type": "code",
   "execution_count": 23,
   "metadata": {},
   "outputs": [],
   "source": [
    "from qiskit_ibm_provider import least_busy"
   ]
  },
  {
   "attachments": {},
   "cell_type": "markdown",
   "metadata": {},
   "source": [
    "`least_busy` can tell us which quantum computer is the least busy."
   ]
  },
  {
   "cell_type": "code",
   "execution_count": 24,
   "metadata": {},
   "outputs": [
    {
     "data": {
      "text/plain": [
       "<IBMBackend('ibm_hanoi')>"
      ]
     },
     "execution_count": 24,
     "metadata": {},
     "output_type": "execute_result"
    }
   ],
   "source": [
    "theLeastBusy = least_busy(theIBMProvider.backends(simulator=False))\n",
    "theLeastBusy"
   ]
  },
  {
   "attachments": {},
   "cell_type": "markdown",
   "metadata": {},
   "source": [
    "In this case, we pick the `ibmq_quito` to run the job.\n",
    "It's a 5-qubit quantum computer.\n",
    "You can use the following method to access it as backend."
   ]
  },
  {
   "attachments": {},
   "cell_type": "markdown",
   "metadata": {},
   "source": [
    "1. by using `provider.get_backend('ibmq_quito')`, recommend this method."
   ]
  },
  {
   "cell_type": "code",
   "execution_count": 25,
   "metadata": {},
   "outputs": [
    {
     "data": {
      "text/plain": [
       "<IBMBackend('ibmq_quito')>"
      ]
     },
     "execution_count": 25,
     "metadata": {},
     "output_type": "execute_result"
    }
   ],
   "source": [
    "theRealDevice = theIBMProvider.get_backend('ibmq_quito')\n",
    "theRealDevice"
   ]
  },
  {
   "attachments": {},
   "cell_type": "markdown",
   "metadata": {},
   "source": [
    "2. by the attribute of `provider.backends.ibmq_quito`"
   ]
  },
  {
   "cell_type": "code",
   "execution_count": 26,
   "metadata": {},
   "outputs": [
    {
     "data": {
      "text/plain": [
       "<IBMBackend('ibmq_quito')>"
      ]
     },
     "execution_count": 26,
     "metadata": {},
     "output_type": "execute_result"
    }
   ],
   "source": [
    "theRealDevice = theIBMProvider.backend.ibmq_quito\n",
    "theRealDevice"
   ]
  },
  {
   "attachments": {},
   "cell_type": "markdown",
   "metadata": {},
   "source": [
    "Before pending, we need to transpile the circuit list to the backend we picked.\n",
    "\n",
    "Due to every quantum computer has different gate set and qubits layout, we need to transpile the circuit, then it can be runnable on the real machine."
   ]
  },
  {
   "cell_type": "code",
   "execution_count": 27,
   "metadata": {},
   "outputs": [],
   "source": [
    "from qiskit import transpile"
   ]
  },
  {
   "cell_type": "code",
   "execution_count": 28,
   "metadata": {},
   "outputs": [
    {
     "name": "stdout",
     "output_type": "stream",
     "text": [
      "| Before: \n",
      "     ┌───┐┌───┐        ┌─┐\n",
      "q_0: ┤ X ├┤ H ├──■─────┤M├\n",
      "     ├───┤└───┘┌─┴─┐┌─┐└╥┘\n",
      "q_1: ┤ X ├─────┤ X ├┤M├─╫─\n",
      "     └───┘     └───┘└╥┘ ║ \n",
      "c: 2/════════════════╩══╩═\n",
      "                     1  0 \n",
      "------------------------------divider------------------------------\n",
      "| After: \n",
      "global phase: 7π/4\n",
      "               ┌─────────┐┌────┐┌──────────┐     ┌─┐   \n",
      "      q_0 -> 0 ┤ Rz(π/2) ├┤ √X ├┤ Rz(-π/2) ├──■──┤M├───\n",
      "               └──┬───┬──┘└────┘└──────────┘┌─┴─┐└╥┘┌─┐\n",
      "      q_1 -> 1 ───┤ X ├─────────────────────┤ X ├─╫─┤M├\n",
      "                  └───┘                     └───┘ ║ └╥┘\n",
      "ancilla_0 -> 2 ───────────────────────────────────╫──╫─\n",
      "                                                  ║  ║ \n",
      "ancilla_1 -> 3 ───────────────────────────────────╫──╫─\n",
      "                                                  ║  ║ \n",
      "ancilla_2 -> 4 ───────────────────────────────────╫──╫─\n",
      "                                                  ║  ║ \n",
      "          c: 2/═══════════════════════════════════╩══╩═\n",
      "                                                  0  1 \n"
     ]
    }
   ],
   "source": [
    "transpiled_list = transpile(multiple_circs, backend=theRealDevice)\n",
    "print(\"| Before: \")\n",
    "print(multiple_circs[0])\n",
    "print(\"-\"*30+\"divider\"+\"-\"*30)\n",
    "print(\"| After: \")\n",
    "print(transpiled_list[0])"
   ]
  },
  {
   "attachments": {},
   "cell_type": "markdown",
   "metadata": {},
   "source": [
    "For `ibmq_quito` is a 5-qubit quantum computer, transpiler will redistribute the qubits and add ancilla to feet the layout of `ibmq_quito`.\n",
    "\n",
    "Further explain can be found in [Qiskit Compiler and the Look-Ahead Swap Mapper](https://youtu.be/hidQGlKl_-E).\n",
    "\n",
    "Then we can pending the job to `ibmq_quito`."
   ]
  },
  {
   "cell_type": "code",
   "execution_count": 29,
   "metadata": {
    "tags": []
   },
   "outputs": [
    {
     "data": {
      "text/plain": [
       "<JobStatus.QUEUED: 'job is queued'>"
      ]
     },
     "execution_count": 29,
     "metadata": {},
     "output_type": "execute_result"
    }
   ],
   "source": [
    "job12 = theRealDevice.run(transpiled_list, shots=4096)\n",
    "job12.status()"
   ]
  },
  {
   "attachments": {},
   "cell_type": "markdown",
   "metadata": {},
   "source": [
    "Now, we are successfully pending the job on `ibmq_quito`.\n",
    "\n",
    "And you can check the status of the job by using `job.status()`.\n",
    "\n",
    "Remenmber to use `job.job_id()` to get the job id for retrieving the job when it's finished."
   ]
  },
  {
   "cell_type": "code",
   "execution_count": 30,
   "metadata": {},
   "outputs": [
    {
     "data": {
      "text/plain": [
       "'ch43bo2ccl2b15otr7k0'"
      ]
     },
     "execution_count": 30,
     "metadata": {},
     "output_type": "execute_result"
    }
   ],
   "source": [
    "job12_id = job12.job_id()\n",
    "job12_id"
   ]
  },
  {
   "attachments": {},
   "cell_type": "markdown",
   "metadata": {},
   "source": [
    "### 4. Retrieving the job"
   ]
  },
  {
   "attachments": {},
   "cell_type": "markdown",
   "metadata": {},
   "source": [
    "At [Jobs](https://quantum-computing.ibm.com/jobs) page, you can see the status of the job.\n",
    "\n",
    "![./jobs.png](./jobs.png)\n",
    "\n",
    "![./job_info.png](./job_info.png)\n",
    "\n",
    "When the jobs are finished, you can retrieve the job by using `provider.retrieve_job(job_id='the job id')`."
   ]
  },
  {
   "cell_type": "code",
   "execution_count": 31,
   "metadata": {
    "tags": []
   },
   "outputs": [],
   "source": [
    "retrieve_job12 = theIBMProvider.retrieve_job(job_id=job12_id)"
   ]
  },
  {
   "cell_type": "code",
   "execution_count": 32,
   "metadata": {
    "tags": []
   },
   "outputs": [
    {
     "data": {
      "text/plain": [
       "[{'00': 355, '01': 1820, '10': 1833, '11': 88},\n",
       " {'0000': 1802,\n",
       "  '0001': 129,\n",
       "  '0010': 40,\n",
       "  '0011': 42,\n",
       "  '0100': 20,\n",
       "  '0101': 8,\n",
       "  '0110': 6,\n",
       "  '0111': 89,\n",
       "  '1000': 42,\n",
       "  '1001': 2,\n",
       "  '1010': 8,\n",
       "  '1011': 75,\n",
       "  '1100': 51,\n",
       "  '1101': 115,\n",
       "  '1110': 170,\n",
       "  '1111': 1497},\n",
       " {'0000': 1774,\n",
       "  '0001': 119,\n",
       "  '0010': 45,\n",
       "  '0011': 61,\n",
       "  '0100': 27,\n",
       "  '0101': 9,\n",
       "  '0110': 12,\n",
       "  '0111': 107,\n",
       "  '1000': 69,\n",
       "  '1001': 9,\n",
       "  '1010': 8,\n",
       "  '1011': 81,\n",
       "  '1100': 54,\n",
       "  '1101': 114,\n",
       "  '1110': 186,\n",
       "  '1111': 1421},\n",
       " {'0000': 1741,\n",
       "  '0001': 125,\n",
       "  '0010': 46,\n",
       "  '0011': 54,\n",
       "  '0100': 14,\n",
       "  '0101': 12,\n",
       "  '0110': 11,\n",
       "  '0111': 104,\n",
       "  '1000': 60,\n",
       "  '1001': 11,\n",
       "  '1010': 10,\n",
       "  '1011': 61,\n",
       "  '1100': 62,\n",
       "  '1101': 110,\n",
       "  '1110': 154,\n",
       "  '1111': 1521},\n",
       " {'00': 313, '01': 1825, '10': 1859, '11': 99}]"
      ]
     },
     "execution_count": 32,
     "metadata": {},
     "output_type": "execute_result"
    }
   ],
   "source": [
    "retrieve_job12.result().get_counts()"
   ]
  },
  {
   "attachments": {},
   "cell_type": "markdown",
   "metadata": {},
   "source": [
    "Every job which run on IBM Quantum can be retrieved by using `provider.retrieve_job()`, just need to provide the job id."
   ]
  },
  {
   "cell_type": "code",
   "execution_count": 33,
   "metadata": {},
   "outputs": [
    {
     "data": {
      "text/plain": [
       "[{'10': 2013, '01': 2083},\n",
       " {'0000': 2021, '1111': 2075},\n",
       " {'1111': 2036, '0000': 2060},\n",
       " {'1111': 2026, '0000': 2070},\n",
       " {'10': 2050, '01': 2046}]"
      ]
     },
     "execution_count": 33,
     "metadata": {},
     "output_type": "execute_result"
    }
   ],
   "source": [
    "retrieve_job11 = theIBMProvider.retrieve_job(job_id=job11.job_id())\n",
    "retrieve_job11.result().get_counts()"
   ]
  },
  {
   "cell_type": "code",
   "execution_count": 34,
   "metadata": {},
   "outputs": [
    {
     "data": {
      "text/plain": [
       "[{'10': 2013, '01': 2083},\n",
       " {'0000': 2021, '1111': 2075},\n",
       " {'1111': 2036, '0000': 2060},\n",
       " {'1111': 2026, '0000': 2070},\n",
       " {'10': 2050, '01': 2046}]"
      ]
     },
     "execution_count": 34,
     "metadata": {},
     "output_type": "execute_result"
    }
   ],
   "source": [
    "result11.get_counts()"
   ]
  },
  {
   "attachments": {},
   "cell_type": "markdown",
   "metadata": {},
   "source": [
    "## More References\n",
    "\n",
    "1. [Qiskit Documentation](https://qiskit.org/documentation/)\n",
    "2. [Qiskit Aer Documentation](https://qiskit.org/documentation/tutorials/simulators/1_aer_provider.html)\n",
    "3. [Qiskit IBM Provider Documentation - IBM Quantum Account](https://qiskit.org/ecosystem/ibm-provider/tutorials/1_the_ibm_quantum_account.html)"
   ]
  }
 ],
 "metadata": {
  "kernelspec": {
   "display_name": "quantumsphere12",
   "language": "python",
   "name": "python3"
  },
  "language_info": {
   "codemirror_mode": {
    "name": "ipython",
    "version": 3
   },
   "file_extension": ".py",
   "mimetype": "text/x-python",
   "name": "python",
   "nbconvert_exporter": "python",
   "pygments_lexer": "ipython3",
   "version": "3.12.2"
  },
  "widgets": {
   "application/vnd.jupyter.widget-state+json": {
    "state": {
     "2bdd9fc75eb04bcd8468aa71a8eaea8d": {
      "model_module": "@jupyter-widgets/base",
      "model_module_version": "2.0.0",
      "model_name": "LayoutModel",
      "state": {}
     },
     "b8c215d382134388b2c5c062975861ed": {
      "model_module": "@quantum/lab-widgets",
      "model_module_version": "4.0.17",
      "model_name": "CircuitComposerModel",
      "state": {
       "circuit": "\"OPENQASM 2.0;\\ninclude \\\"qelib1.inc\\\";\\nqreg q[2];\\ncreg c[2];\\nx q[0];\\nx q[1];\\nh q[0];\\ncx q[0],q[1];\\nmeasure q[1] -> c[1];\\nmeasure q[0] -> c[0];\\n\"",
       "editable": true,
       "layout": "IPY_MODEL_2bdd9fc75eb04bcd8468aa71a8eaea8d",
       "qiskit_code_cell_index": -1
      }
     }
    },
    "version_major": 2,
    "version_minor": 0
   }
  }
 },
 "nbformat": 4,
 "nbformat_minor": 4
}
